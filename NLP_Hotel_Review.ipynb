{
  "nbformat": 4,
  "nbformat_minor": 0,
  "metadata": {
    "colab": {
      "name": "NLP-Hotel-Review",
      "provenance": [],
      "collapsed_sections": []
    },
    "kernelspec": {
      "name": "python3",
      "display_name": "Python 3"
    },
    "language_info": {
      "name": "python"
    }
  },
  "cells": [
    {
      "cell_type": "code",
      "source": [
        "# Standar Library\n",
        "import re\n",
        "import string\n",
        "\n",
        "# Third-party Library\n",
        "import numpy as np\n",
        "import pandas as pd\n",
        "import matplotlib.pyplot as plt\n",
        "from sklearn.model_selection import train_test_split\n",
        "import keras\n",
        "from keras.preprocessing.text import Tokenizer\n",
        "from keras.preprocessing.sequence import pad_sequences\n",
        "import tensorflow as tf\n",
        "import tensorflow_text as text\n",
        "from tensorflow_text.tools.wordpiece_vocab import bert_vocab_from_dataset as bert_vocab\n",
        "from transformers import pipeline\n",
        "from transformers import AutoTokenizer, AutoModelForSequenceClassification\n",
        "from Sastrawi.Stemmer.StemmerFactory import StemmerFactory"
      ],
      "metadata": {
        "id": "_BtrMxa2mAPK"
      },
      "execution_count": null,
      "outputs": []
    },
    {
      "cell_type": "code",
      "source": [
        "import pandas as pd\n",
        "\n",
        "# Local directory\n",
        "data = pd.read_csv('review_hotel.csv')"
      ],
      "metadata": {
        "id": "wQcL6lawugeo"
      },
      "execution_count": null,
      "outputs": []
    },
    {
      "cell_type": "code",
      "source": [
        "data.shape\n",
        "data.sample(5)"
      ],
      "metadata": {
        "colab": {
          "base_uri": "https://localhost:8080/",
          "height": 206
        },
        "id": "RRaul2t52TE-",
        "outputId": "ebc8755e-a7e2-40f9-cf09-dba22f15bf52"
      },
      "execution_count": null,
      "outputs": [
        {
          "output_type": "execute_result",
          "data": {
            "text/plain": [
              "                              review_id  \\\n",
              "2565   5b35e869a2a78ce1b89eed3d6d1418db   \n",
              "13008  c18256a7dedc9bf96ba185abd8d4ba9d   \n",
              "1727   1cf690b2d0b75e2471d0f660deef3069   \n",
              "12121  f95bb63ea9e3a8e347e37323146317dd   \n",
              "13413  4d4518d2871884eacef3fe56145c0fe9   \n",
              "\n",
              "                                             review_text  category  \n",
              "2565   saya sangat kecewa dengan fasilitas yang didap...         0  \n",
              "13008  Sepi , karyawan sedikit , kamar luas tapi koto...         0  \n",
              "1727                   handuk TIDAK PERNAH TERSEDIA!!!\\n         0  \n",
              "12121        Kamar memuaskan..ruang lobby banyak nyamuk.         1  \n",
              "13413  agak ribut, terlalu diperhatikan gerak gerik k...         0  "
            ],
            "text/html": [
              "\n",
              "  <div id=\"df-89e8fb85-c2e6-46e0-a82b-c5a1c09ecbb5\">\n",
              "    <div class=\"colab-df-container\">\n",
              "      <div>\n",
              "<style scoped>\n",
              "    .dataframe tbody tr th:only-of-type {\n",
              "        vertical-align: middle;\n",
              "    }\n",
              "\n",
              "    .dataframe tbody tr th {\n",
              "        vertical-align: top;\n",
              "    }\n",
              "\n",
              "    .dataframe thead th {\n",
              "        text-align: right;\n",
              "    }\n",
              "</style>\n",
              "<table border=\"1\" class=\"dataframe\">\n",
              "  <thead>\n",
              "    <tr style=\"text-align: right;\">\n",
              "      <th></th>\n",
              "      <th>review_id</th>\n",
              "      <th>review_text</th>\n",
              "      <th>category</th>\n",
              "    </tr>\n",
              "  </thead>\n",
              "  <tbody>\n",
              "    <tr>\n",
              "      <th>2565</th>\n",
              "      <td>5b35e869a2a78ce1b89eed3d6d1418db</td>\n",
              "      <td>saya sangat kecewa dengan fasilitas yang didap...</td>\n",
              "      <td>0</td>\n",
              "    </tr>\n",
              "    <tr>\n",
              "      <th>13008</th>\n",
              "      <td>c18256a7dedc9bf96ba185abd8d4ba9d</td>\n",
              "      <td>Sepi , karyawan sedikit , kamar luas tapi koto...</td>\n",
              "      <td>0</td>\n",
              "    </tr>\n",
              "    <tr>\n",
              "      <th>1727</th>\n",
              "      <td>1cf690b2d0b75e2471d0f660deef3069</td>\n",
              "      <td>handuk TIDAK PERNAH TERSEDIA!!!\\n</td>\n",
              "      <td>0</td>\n",
              "    </tr>\n",
              "    <tr>\n",
              "      <th>12121</th>\n",
              "      <td>f95bb63ea9e3a8e347e37323146317dd</td>\n",
              "      <td>Kamar memuaskan..ruang lobby banyak nyamuk.</td>\n",
              "      <td>1</td>\n",
              "    </tr>\n",
              "    <tr>\n",
              "      <th>13413</th>\n",
              "      <td>4d4518d2871884eacef3fe56145c0fe9</td>\n",
              "      <td>agak ribut, terlalu diperhatikan gerak gerik k...</td>\n",
              "      <td>0</td>\n",
              "    </tr>\n",
              "  </tbody>\n",
              "</table>\n",
              "</div>\n",
              "      <button class=\"colab-df-convert\" onclick=\"convertToInteractive('df-89e8fb85-c2e6-46e0-a82b-c5a1c09ecbb5')\"\n",
              "              title=\"Convert this dataframe to an interactive table.\"\n",
              "              style=\"display:none;\">\n",
              "        \n",
              "  <svg xmlns=\"http://www.w3.org/2000/svg\" height=\"24px\"viewBox=\"0 0 24 24\"\n",
              "       width=\"24px\">\n",
              "    <path d=\"M0 0h24v24H0V0z\" fill=\"none\"/>\n",
              "    <path d=\"M18.56 5.44l.94 2.06.94-2.06 2.06-.94-2.06-.94-.94-2.06-.94 2.06-2.06.94zm-11 1L8.5 8.5l.94-2.06 2.06-.94-2.06-.94L8.5 2.5l-.94 2.06-2.06.94zm10 10l.94 2.06.94-2.06 2.06-.94-2.06-.94-.94-2.06-.94 2.06-2.06.94z\"/><path d=\"M17.41 7.96l-1.37-1.37c-.4-.4-.92-.59-1.43-.59-.52 0-1.04.2-1.43.59L10.3 9.45l-7.72 7.72c-.78.78-.78 2.05 0 2.83L4 21.41c.39.39.9.59 1.41.59.51 0 1.02-.2 1.41-.59l7.78-7.78 2.81-2.81c.8-.78.8-2.07 0-2.86zM5.41 20L4 18.59l7.72-7.72 1.47 1.35L5.41 20z\"/>\n",
              "  </svg>\n",
              "      </button>\n",
              "      \n",
              "  <style>\n",
              "    .colab-df-container {\n",
              "      display:flex;\n",
              "      flex-wrap:wrap;\n",
              "      gap: 12px;\n",
              "    }\n",
              "\n",
              "    .colab-df-convert {\n",
              "      background-color: #E8F0FE;\n",
              "      border: none;\n",
              "      border-radius: 50%;\n",
              "      cursor: pointer;\n",
              "      display: none;\n",
              "      fill: #1967D2;\n",
              "      height: 32px;\n",
              "      padding: 0 0 0 0;\n",
              "      width: 32px;\n",
              "    }\n",
              "\n",
              "    .colab-df-convert:hover {\n",
              "      background-color: #E2EBFA;\n",
              "      box-shadow: 0px 1px 2px rgba(60, 64, 67, 0.3), 0px 1px 3px 1px rgba(60, 64, 67, 0.15);\n",
              "      fill: #174EA6;\n",
              "    }\n",
              "\n",
              "    [theme=dark] .colab-df-convert {\n",
              "      background-color: #3B4455;\n",
              "      fill: #D2E3FC;\n",
              "    }\n",
              "\n",
              "    [theme=dark] .colab-df-convert:hover {\n",
              "      background-color: #434B5C;\n",
              "      box-shadow: 0px 1px 3px 1px rgba(0, 0, 0, 0.15);\n",
              "      filter: drop-shadow(0px 1px 2px rgba(0, 0, 0, 0.3));\n",
              "      fill: #FFFFFF;\n",
              "    }\n",
              "  </style>\n",
              "\n",
              "      <script>\n",
              "        const buttonEl =\n",
              "          document.querySelector('#df-89e8fb85-c2e6-46e0-a82b-c5a1c09ecbb5 button.colab-df-convert');\n",
              "        buttonEl.style.display =\n",
              "          google.colab.kernel.accessAllowed ? 'block' : 'none';\n",
              "\n",
              "        async function convertToInteractive(key) {\n",
              "          const element = document.querySelector('#df-89e8fb85-c2e6-46e0-a82b-c5a1c09ecbb5');\n",
              "          const dataTable =\n",
              "            await google.colab.kernel.invokeFunction('convertToInteractive',\n",
              "                                                     [key], {});\n",
              "          if (!dataTable) return;\n",
              "\n",
              "          const docLinkHtml = 'Like what you see? Visit the ' +\n",
              "            '<a target=\"_blank\" href=https://colab.research.google.com/notebooks/data_table.ipynb>data table notebook</a>'\n",
              "            + ' to learn more about interactive tables.';\n",
              "          element.innerHTML = '';\n",
              "          dataTable['output_type'] = 'display_data';\n",
              "          await google.colab.output.renderOutput(dataTable, element);\n",
              "          const docLink = document.createElement('div');\n",
              "          docLink.innerHTML = docLinkHtml;\n",
              "          element.appendChild(docLink);\n",
              "        }\n",
              "      </script>\n",
              "    </div>\n",
              "  </div>\n",
              "  "
            ]
          },
          "metadata": {},
          "execution_count": 13
        }
      ]
    },
    {
      "cell_type": "code",
      "source": [
        "punctuations = re.sub(r\"[!<_>#:)\\.]\", \"\", string.punctuation)\n",
        "\n",
        "def punct2wspace(text):\n",
        "    return re.sub(r\"[{}]+\".format(punctuations), \" \", text)\n",
        "\n",
        "def normalize_wspace(text):\n",
        "    return re.sub(r\"\\s+\", \" \", text)\n",
        "\n",
        "def casefolding(text):\n",
        "    return text.lower()"
      ],
      "metadata": {
        "id": "smQPsqyzlYd2"
      },
      "execution_count": null,
      "outputs": []
    },
    {
      "cell_type": "code",
      "source": [
        "# create stemmer\n",
        "factory = StemmerFactory()\n",
        "stemmer = factory.create_stemmer()"
      ],
      "metadata": {
        "id": "6MTxA1g0n0ab"
      },
      "execution_count": null,
      "outputs": []
    },
    {
      "cell_type": "code",
      "source": [
        "def preprocess_text(text):\n",
        "    text = punct2wspace(text)\n",
        "    text = normalize_wspace(text)\n",
        "    text = casefolding(text)\n",
        "    # text = stemmer.stem(text)\n",
        "    return text"
      ],
      "metadata": {
        "id": "f6qqFtVjpdZG"
      },
      "execution_count": null,
      "outputs": []
    },
    {
      "cell_type": "code",
      "source": [
        "data[\"cleaned_text\"] = data[\"review_text\"].apply(preprocess_text)\n",
        "data.head()"
      ],
      "metadata": {
        "colab": {
          "base_uri": "https://localhost:8080/",
          "height": 206
        },
        "id": "XKjnClKvphdS",
        "outputId": "9253e152-19b6-41c9-b9b5-a32fd12d5fca"
      },
      "execution_count": null,
      "outputs": [
        {
          "output_type": "execute_result",
          "data": {
            "text/plain": [
              "                          review_id  \\\n",
              "0  0fc651bfdd38a3b4ba19ef9d0d1e92e3   \n",
              "1  7d8cb2e465c5602e51c1ba8710e8ff16   \n",
              "2  1f4447c73e5e1aac462d05b0ecbd5a55   \n",
              "3  b9aefbfb0debbfff43f8b268c82b43c0   \n",
              "4  e2afef18bd695fae43d4d53b8c547bd4   \n",
              "\n",
              "                                         review_text  category  \\\n",
              "0  Penginapannya rapi, bersih, suasana tenang, pe...         1   \n",
              "1  wifi tidak sampai kamar, tidak tersedia heater...         0   \n",
              "2  Lantai kamar mandi kotor, bau, dan seperti sdh...         0   \n",
              "3  Wc jorok.. Kasur tidak dibersihkan,, handuk ti...         0   \n",
              "4                                         bocor lagi         0   \n",
              "\n",
              "                                        cleaned_text  \n",
              "0  penginapannya rapi bersih suasana tenang pelay...  \n",
              "1  wifi tidak sampai kamar tidak tersedia heater ...  \n",
              "2  lantai kamar mandi kotor bau dan seperti sdh j...  \n",
              "3  wc jorok kasur tidak dibersihkan handuk tidak ...  \n",
              "4                                         bocor lagi  "
            ],
            "text/html": [
              "\n",
              "  <div id=\"df-3226c0e4-eafe-4e3f-9a78-8a0f898621dc\">\n",
              "    <div class=\"colab-df-container\">\n",
              "      <div>\n",
              "<style scoped>\n",
              "    .dataframe tbody tr th:only-of-type {\n",
              "        vertical-align: middle;\n",
              "    }\n",
              "\n",
              "    .dataframe tbody tr th {\n",
              "        vertical-align: top;\n",
              "    }\n",
              "\n",
              "    .dataframe thead th {\n",
              "        text-align: right;\n",
              "    }\n",
              "</style>\n",
              "<table border=\"1\" class=\"dataframe\">\n",
              "  <thead>\n",
              "    <tr style=\"text-align: right;\">\n",
              "      <th></th>\n",
              "      <th>review_id</th>\n",
              "      <th>review_text</th>\n",
              "      <th>category</th>\n",
              "      <th>cleaned_text</th>\n",
              "    </tr>\n",
              "  </thead>\n",
              "  <tbody>\n",
              "    <tr>\n",
              "      <th>0</th>\n",
              "      <td>0fc651bfdd38a3b4ba19ef9d0d1e92e3</td>\n",
              "      <td>Penginapannya rapi, bersih, suasana tenang, pe...</td>\n",
              "      <td>1</td>\n",
              "      <td>penginapannya rapi bersih suasana tenang pelay...</td>\n",
              "    </tr>\n",
              "    <tr>\n",
              "      <th>1</th>\n",
              "      <td>7d8cb2e465c5602e51c1ba8710e8ff16</td>\n",
              "      <td>wifi tidak sampai kamar, tidak tersedia heater...</td>\n",
              "      <td>0</td>\n",
              "      <td>wifi tidak sampai kamar tidak tersedia heater ...</td>\n",
              "    </tr>\n",
              "    <tr>\n",
              "      <th>2</th>\n",
              "      <td>1f4447c73e5e1aac462d05b0ecbd5a55</td>\n",
              "      <td>Lantai kamar mandi kotor, bau, dan seperti sdh...</td>\n",
              "      <td>0</td>\n",
              "      <td>lantai kamar mandi kotor bau dan seperti sdh j...</td>\n",
              "    </tr>\n",
              "    <tr>\n",
              "      <th>3</th>\n",
              "      <td>b9aefbfb0debbfff43f8b268c82b43c0</td>\n",
              "      <td>Wc jorok.. Kasur tidak dibersihkan,, handuk ti...</td>\n",
              "      <td>0</td>\n",
              "      <td>wc jorok kasur tidak dibersihkan handuk tidak ...</td>\n",
              "    </tr>\n",
              "    <tr>\n",
              "      <th>4</th>\n",
              "      <td>e2afef18bd695fae43d4d53b8c547bd4</td>\n",
              "      <td>bocor lagi</td>\n",
              "      <td>0</td>\n",
              "      <td>bocor lagi</td>\n",
              "    </tr>\n",
              "  </tbody>\n",
              "</table>\n",
              "</div>\n",
              "      <button class=\"colab-df-convert\" onclick=\"convertToInteractive('df-3226c0e4-eafe-4e3f-9a78-8a0f898621dc')\"\n",
              "              title=\"Convert this dataframe to an interactive table.\"\n",
              "              style=\"display:none;\">\n",
              "        \n",
              "  <svg xmlns=\"http://www.w3.org/2000/svg\" height=\"24px\"viewBox=\"0 0 24 24\"\n",
              "       width=\"24px\">\n",
              "    <path d=\"M0 0h24v24H0V0z\" fill=\"none\"/>\n",
              "    <path d=\"M18.56 5.44l.94 2.06.94-2.06 2.06-.94-2.06-.94-.94-2.06-.94 2.06-2.06.94zm-11 1L8.5 8.5l.94-2.06 2.06-.94-2.06-.94L8.5 2.5l-.94 2.06-2.06.94zm10 10l.94 2.06.94-2.06 2.06-.94-2.06-.94-.94-2.06-.94 2.06-2.06.94z\"/><path d=\"M17.41 7.96l-1.37-1.37c-.4-.4-.92-.59-1.43-.59-.52 0-1.04.2-1.43.59L10.3 9.45l-7.72 7.72c-.78.78-.78 2.05 0 2.83L4 21.41c.39.39.9.59 1.41.59.51 0 1.02-.2 1.41-.59l7.78-7.78 2.81-2.81c.8-.78.8-2.07 0-2.86zM5.41 20L4 18.59l7.72-7.72 1.47 1.35L5.41 20z\"/>\n",
              "  </svg>\n",
              "      </button>\n",
              "      \n",
              "  <style>\n",
              "    .colab-df-container {\n",
              "      display:flex;\n",
              "      flex-wrap:wrap;\n",
              "      gap: 12px;\n",
              "    }\n",
              "\n",
              "    .colab-df-convert {\n",
              "      background-color: #E8F0FE;\n",
              "      border: none;\n",
              "      border-radius: 50%;\n",
              "      cursor: pointer;\n",
              "      display: none;\n",
              "      fill: #1967D2;\n",
              "      height: 32px;\n",
              "      padding: 0 0 0 0;\n",
              "      width: 32px;\n",
              "    }\n",
              "\n",
              "    .colab-df-convert:hover {\n",
              "      background-color: #E2EBFA;\n",
              "      box-shadow: 0px 1px 2px rgba(60, 64, 67, 0.3), 0px 1px 3px 1px rgba(60, 64, 67, 0.15);\n",
              "      fill: #174EA6;\n",
              "    }\n",
              "\n",
              "    [theme=dark] .colab-df-convert {\n",
              "      background-color: #3B4455;\n",
              "      fill: #D2E3FC;\n",
              "    }\n",
              "\n",
              "    [theme=dark] .colab-df-convert:hover {\n",
              "      background-color: #434B5C;\n",
              "      box-shadow: 0px 1px 3px 1px rgba(0, 0, 0, 0.15);\n",
              "      filter: drop-shadow(0px 1px 2px rgba(0, 0, 0, 0.3));\n",
              "      fill: #FFFFFF;\n",
              "    }\n",
              "  </style>\n",
              "\n",
              "      <script>\n",
              "        const buttonEl =\n",
              "          document.querySelector('#df-3226c0e4-eafe-4e3f-9a78-8a0f898621dc button.colab-df-convert');\n",
              "        buttonEl.style.display =\n",
              "          google.colab.kernel.accessAllowed ? 'block' : 'none';\n",
              "\n",
              "        async function convertToInteractive(key) {\n",
              "          const element = document.querySelector('#df-3226c0e4-eafe-4e3f-9a78-8a0f898621dc');\n",
              "          const dataTable =\n",
              "            await google.colab.kernel.invokeFunction('convertToInteractive',\n",
              "                                                     [key], {});\n",
              "          if (!dataTable) return;\n",
              "\n",
              "          const docLinkHtml = 'Like what you see? Visit the ' +\n",
              "            '<a target=\"_blank\" href=https://colab.research.google.com/notebooks/data_table.ipynb>data table notebook</a>'\n",
              "            + ' to learn more about interactive tables.';\n",
              "          element.innerHTML = '';\n",
              "          dataTable['output_type'] = 'display_data';\n",
              "          await google.colab.output.renderOutput(dataTable, element);\n",
              "          const docLink = document.createElement('div');\n",
              "          docLink.innerHTML = docLinkHtml;\n",
              "          element.appendChild(docLink);\n",
              "        }\n",
              "      </script>\n",
              "    </div>\n",
              "  </div>\n",
              "  "
            ]
          },
          "metadata": {},
          "execution_count": 22
        }
      ]
    },
    {
      "cell_type": "markdown",
      "source": [
        "Dapatkan teks dan label"
      ],
      "metadata": {
        "id": "knLcfoNBqMiF"
      }
    },
    {
      "cell_type": "code",
      "source": [
        "target = data[\"category\"]\n",
        "features_text = data[\"cleaned_text\"]"
      ],
      "metadata": {
        "id": "sBgUY6LcqMA_"
      },
      "execution_count": null,
      "outputs": []
    },
    {
      "cell_type": "markdown",
      "source": [
        "Input Pipeline"
      ],
      "metadata": {
        "id": "sesLBrGVqeTC"
      }
    },
    {
      "cell_type": "code",
      "source": [
        "#split data\n",
        "X_train, X_test, y_train, y_test = train_test_split(features_text, target, random_state=42)"
      ],
      "metadata": {
        "id": "PEsOoXQLqZVN"
      },
      "execution_count": null,
      "outputs": []
    },
    {
      "cell_type": "code",
      "source": [
        "#TF Dataset\n",
        "BATCH_SIZE = 32"
      ],
      "metadata": {
        "id": "jiqDaBa3qnk_"
      },
      "execution_count": null,
      "outputs": []
    },
    {
      "cell_type": "code",
      "source": [
        "# Ubah input menjadi objek tf.data.Dataset\n",
        "train_dataset = tf.data.Dataset.from_tensor_slices((X_train, y_train))\n",
        "test_dataset = tf.data.Dataset.from_tensor_slices((X_test, y_test))\n",
        "\n",
        "# Terapkan shuffle, batch dan prefetch pada dataset\n",
        "train_dataset = train_dataset.batch(BATCH_SIZE).prefetch(tf.data.AUTOTUNE)\n",
        "test_dataset = test_dataset.batch(BATCH_SIZE).prefetch(tf.data.AUTOTUNE)"
      ],
      "metadata": {
        "id": "GwB6LvmjqwHa"
      },
      "execution_count": null,
      "outputs": []
    },
    {
      "cell_type": "code",
      "source": [
        "# Melihat isi dataset\n",
        "for feat, tar in train_dataset.take(1):\n",
        "    print(feat[:3])\n",
        "    print(tar[:3])"
      ],
      "metadata": {
        "colab": {
          "base_uri": "https://localhost:8080/"
        },
        "id": "-lQWQOM9q0Ir",
        "outputId": "828beaba-8dd2-46fe-a948-78afc88b684d"
      },
      "execution_count": null,
      "outputs": [
        {
          "output_type": "stream",
          "name": "stdout",
          "text": [
            "tf.Tensor(\n",
            "[b'lantai kamar mandi dan lanta kamar kurang bersih terasa licin '\n",
            " b'kamar oke lokasi oke tp sarapannya kurang enak\\xf0\\x9f\\x99\\x81 '\n",
            " b'bad place'], shape=(3,), dtype=string)\n",
            "tf.Tensor([0 0 0], shape=(3,), dtype=int64)\n"
          ]
        }
      ]
    },
    {
      "cell_type": "code",
      "source": [
        "#Text Encoder\n",
        "max_features = 10000      # Jumlah kosakata\n",
        "embedding_dim = 16        # Jumlah dimensi dalam word embedding"
      ],
      "metadata": {
        "id": "OYGTT5O_q6u3"
      },
      "execution_count": null,
      "outputs": []
    },
    {
      "cell_type": "code",
      "source": [
        "# Buat text vectorizer\n",
        "encoder = keras.layers.TextVectorization(max_tokens=max_features)\n",
        "\n",
        "# Latih tokenizer pada data teks\n",
        "encoder.adapt(train_dataset.map(lambda feat, tar: feat))"
      ],
      "metadata": {
        "id": "SUNKYd3krLBF"
      },
      "execution_count": null,
      "outputs": []
    },
    {
      "cell_type": "code",
      "source": [
        "# Tokenisasi data teks\n",
        "encoder(feat)[:3]"
      ],
      "metadata": {
        "colab": {
          "base_uri": "https://localhost:8080/"
        },
        "id": "3hYMdmJ_rPRM",
        "outputId": "137324e5-484c-41a7-fc92-e5ca34d8fa58"
      },
      "execution_count": null,
      "outputs": [
        {
          "output_type": "execute_result",
          "data": {
            "text/plain": [
              "<tf.Tensor: shape=(3, 47), dtype=int64, numpy=\n",
              "array([[  74,    2,    9,    4, 4738,    2,    7,   13,  411,  571,    0,\n",
              "           0,    0,    0,    0,    0,    0,    0,    0,    0,    0,    0,\n",
              "           0,    0,    0,    0,    0,    0,    0,    0,    0,    0,    0,\n",
              "           0,    0,    0,    0,    0,    0,    0,    0,    0,    0,    0,\n",
              "           0,    0,    0],\n",
              "       [   2,  119,   79,  119,   67,  421,    7, 9985,    0,    0,    0,\n",
              "           0,    0,    0,    0,    0,    0,    0,    0,    0,    0,    0,\n",
              "           0,    0,    0,    0,    0,    0,    0,    0,    0,    0,    0,\n",
              "           0,    0,    0,    0,    0,    0,    0,    0,    0,    0,    0,\n",
              "           0,    0,    0],\n",
              "       [ 239,  515,    0,    0,    0,    0,    0,    0,    0,    0,    0,\n",
              "           0,    0,    0,    0,    0,    0,    0,    0,    0,    0,    0,\n",
              "           0,    0,    0,    0,    0,    0,    0,    0,    0,    0,    0,\n",
              "           0,    0,    0,    0,    0,    0,    0,    0,    0,    0,    0,\n",
              "           0,    0,    0]])>"
            ]
          },
          "metadata": {},
          "execution_count": 31
        }
      ]
    },
    {
      "cell_type": "markdown",
      "source": [
        "**Model Building: Neural Network** "
      ],
      "metadata": {
        "id": "1G1bFaWJris3"
      }
    },
    {
      "cell_type": "markdown",
      "source": [
        "Bangun model\n"
      ],
      "metadata": {
        "id": "jGXik2vhrnku"
      }
    },
    {
      "cell_type": "code",
      "source": [
        "# Buat model sequential (berurutan)\n",
        "model = keras.Sequential()\n",
        "model.add(encoder)\n",
        "model.add(keras.layers.Embedding(\n",
        "    input_dim=len(encoder.get_vocabulary()), \n",
        "    output_dim=embedding_dim, \n",
        "    mask_zero=True)\n",
        ")\n",
        "model.add(keras.layers.LSTM(16, return_sequences=True))\n",
        "model.add(keras.layers.LSTM(16))\n",
        "model.add(keras.layers.Dropout(0.5))\n",
        "model.add(keras.layers.Dense(8))\n",
        "model.add(keras.layers.Dense(1, activation=\"sigmoid\"))\n",
        "\n",
        "# Tentukan loss, optimizer dan metrik yang akan digunakan\n",
        "model.compile(loss=\"binary_crossentropy\", \n",
        "              optimizer=\"rmsprop\",\n",
        "              metrics=[\"acc\"])"
      ],
      "metadata": {
        "id": "vtmMctJFrzV6"
      },
      "execution_count": null,
      "outputs": []
    },
    {
      "cell_type": "markdown",
      "source": [
        "Struktur Model"
      ],
      "metadata": {
        "id": "7P2gp98OsnMD"
      }
    },
    {
      "cell_type": "code",
      "source": [
        "# Melihat arsitektur model\n",
        "model.summary()"
      ],
      "metadata": {
        "colab": {
          "base_uri": "https://localhost:8080/"
        },
        "id": "6Oob_KDNsj1g",
        "outputId": "03bb1720-46b2-4e88-d73e-806cfe20f0b8"
      },
      "execution_count": null,
      "outputs": [
        {
          "output_type": "stream",
          "name": "stdout",
          "text": [
            "Model: \"sequential\"\n",
            "_________________________________________________________________\n",
            " Layer (type)                Output Shape              Param #   \n",
            "=================================================================\n",
            " text_vectorization (TextVec  (None, None)             0         \n",
            " torization)                                                     \n",
            "                                                                 \n",
            " embedding (Embedding)       (None, None, 16)          160000    \n",
            "                                                                 \n",
            " lstm (LSTM)                 (None, None, 16)          2112      \n",
            "                                                                 \n",
            " lstm_1 (LSTM)               (None, 16)                2112      \n",
            "                                                                 \n",
            " dropout (Dropout)           (None, 16)                0         \n",
            "                                                                 \n",
            " dense (Dense)               (None, 8)                 136       \n",
            "                                                                 \n",
            " dense_1 (Dense)             (None, 1)                 9         \n",
            "                                                                 \n",
            "=================================================================\n",
            "Total params: 164,369\n",
            "Trainable params: 164,369\n",
            "Non-trainable params: 0\n",
            "_________________________________________________________________\n"
          ]
        }
      ]
    },
    {
      "cell_type": "markdown",
      "source": [
        "Bentuk Model\n"
      ],
      "metadata": {
        "id": "P9UiUBw2tIWw"
      }
    },
    {
      "cell_type": "code",
      "source": [
        "# Melihat Diagram Model\n",
        "keras.utils.vis_utils.plot_model(model, \"model.png\")"
      ],
      "metadata": {
        "colab": {
          "base_uri": "https://localhost:8080/",
          "height": 758
        },
        "id": "npOZN7W_tKI8",
        "outputId": "450d5cb9-691d-4131-944d-6bb12aec6490"
      },
      "execution_count": null,
      "outputs": [
        {
          "output_type": "execute_result",
          "data": {
            "text/plain": [
              "<IPython.core.display.Image object>"
            ],
            "image/png": "[encoded data removed]"
          },
          "metadata": {},
          "execution_count": 34
        }
      ]
    },
    {
      "cell_type": "markdown",
      "source": [
        "Latih Model"
      ],
      "metadata": {
        "id": "fejzJDzxtihn"
      }
    },
    {
      "cell_type": "code",
      "source": [
        "# Melatih model\n",
        "history = model.fit(train_dataset,\n",
        "                    epochs=10,\n",
        "                    validation_data=test_dataset)"
      ],
      "metadata": {
        "colab": {
          "base_uri": "https://localhost:8080/"
        },
        "id": "KMlyMkBGtfo6",
        "outputId": "c63b5fb3-ce07-4711-9fff-84c9fd7d5d1d"
      },
      "execution_count": null,
      "outputs": [
        {
          "output_type": "stream",
          "name": "stdout",
          "text": [
            "Epoch 1/10\n",
            "349/349 [==============================] - 38s 78ms/step - loss: 0.3023 - acc: 0.9078 - val_loss: 0.1793 - val_acc: 0.9499\n",
            "Epoch 2/10\n",
            "349/349 [==============================] - 24s 70ms/step - loss: 0.1837 - acc: 0.9465 - val_loss: 0.1559 - val_acc: 0.9537\n",
            "Epoch 3/10\n",
            "349/349 [==============================] - 25s 70ms/step - loss: 0.1583 - acc: 0.9546 - val_loss: 0.1507 - val_acc: 0.9540\n",
            "Epoch 4/10\n",
            "349/349 [==============================] - 25s 72ms/step - loss: 0.1453 - acc: 0.9571 - val_loss: 0.1516 - val_acc: 0.9556\n",
            "Epoch 5/10\n",
            "349/349 [==============================] - 25s 71ms/step - loss: 0.1359 - acc: 0.9593 - val_loss: 0.1505 - val_acc: 0.9553\n",
            "Epoch 6/10\n",
            "349/349 [==============================] - 25s 70ms/step - loss: 0.1314 - acc: 0.9606 - val_loss: 0.1540 - val_acc: 0.9540\n",
            "Epoch 7/10\n",
            "349/349 [==============================] - 25s 71ms/step - loss: 0.1229 - acc: 0.9629 - val_loss: 0.1507 - val_acc: 0.9545\n",
            "Epoch 8/10\n",
            "349/349 [==============================] - 25s 71ms/step - loss: 0.1200 - acc: 0.9627 - val_loss: 0.1579 - val_acc: 0.9548\n",
            "Epoch 9/10\n",
            "349/349 [==============================] - 25s 72ms/step - loss: 0.1131 - acc: 0.9644 - val_loss: 0.1620 - val_acc: 0.9545\n",
            "Epoch 10/10\n",
            "349/349 [==============================] - 24s 70ms/step - loss: 0.1063 - acc: 0.9663 - val_loss: 0.1717 - val_acc: 0.9532\n"
          ]
        }
      ]
    },
    {
      "cell_type": "markdown",
      "source": [
        "Evaluasi Model"
      ],
      "metadata": {
        "id": "ZXfWpUCavEV_"
      }
    },
    {
      "cell_type": "code",
      "source": [
        "plt.figure()\n",
        "plt.title(\"Akurasi\")\n",
        "plt.plot(history.history[\"acc\"])\n",
        "plt.plot(history.history[\"val_acc\"])\n",
        "\n",
        "plt.figure()\n",
        "plt.title(\"Loss\")\n",
        "plt.plot(history.history[\"loss\"])\n",
        "plt.plot(history.history[\"val_loss\"])\n",
        "\n",
        "plt.show()"
      ],
      "metadata": {
        "colab": {
          "base_uri": "https://localhost:8080/",
          "height": 545
        },
        "id": "i3Oe8KeSvCOH",
        "outputId": "a8f16f83-36af-4c11-d0a9-0a7d9f199f38"
      },
      "execution_count": null,
      "outputs": [
        {
          "output_type": "display_data",
          "data": {
            "text/plain": [
              "<Figure size 432x288 with 1 Axes>"
            ],
            "image/png": "[encoded data removed]"
          },
          "metadata": {
            "needs_background": "light"
          }
        },
        {
          "output_type": "display_data",
          "data": {
            "text/plain": [
              "<Figure size 432x288 with 1 Axes>"
            ],
            "image/png": "[encoded data removed]"
          },
          "metadata": {
            "needs_background": "light"
          }
        }
      ]
    },
    {
      "cell_type": "markdown",
      "source": [
        "Prediksi Model"
      ],
      "metadata": {
        "id": "Z9eVARwjvX84"
      }
    },
    {
      "cell_type": "code",
      "source": [
        "contoh_review = [\"lokasi strategis pusat kota, nyaman\"]\n",
        "prediksi = model.predict(contoh_review) # Probabilitas\n",
        "prediksi.squeeze()  # diatas 0.5 berarti label 1 atau sentimen positif, begitu juga sebaliknya"
      ],
      "metadata": {
        "colab": {
          "base_uri": "https://localhost:8080/"
        },
        "id": "J8wAbG-8vazO",
        "outputId": "6f1e9a11-af94-429c-9df4-c8621c3e6a25"
      },
      "execution_count": null,
      "outputs": [
        {
          "output_type": "execute_result",
          "data": {
            "text/plain": [
              "array(0.9957977, dtype=float32)"
            ]
          },
          "metadata": {},
          "execution_count": 41
        }
      ]
    },
    {
      "cell_type": "code",
      "source": [
        "if prediksi.squeeze()>0.5:\n",
        "  print(prediksi.squeeze())\n",
        "  print(\"Review positif\")\n",
        "else:\n",
        "  print(prediksi.squeeze())\n",
        "  print(\"Review negatif\")"
      ],
      "metadata": {
        "colab": {
          "base_uri": "https://localhost:8080/"
        },
        "id": "t--OXBQGwZvq",
        "outputId": "df24f46e-f051-4ab0-d4ff-7d8b61ebf364"
      },
      "execution_count": null,
      "outputs": [
        {
          "output_type": "stream",
          "name": "stdout",
          "text": [
            "0.9957977\n",
            "Review positif\n"
          ]
        }
      ]
    },
    {
      "cell_type": "code",
      "source": [
        "model.save_weights('mymodel_weights')\n",
        "model.save('mymodel',save_format=tf)"
      ],
      "metadata": {
        "colab": {
          "base_uri": "https://localhost:8080/"
        },
        "id": "e6sI7AFe-YgM",
        "outputId": "e77f6347-b42a-4ecd-842b-f8ada43dabd0"
      },
      "execution_count": null,
      "outputs": [
        {
          "output_type": "stream",
          "name": "stderr",
          "text": [
            "WARNING:absl:Found untraced functions such as lstm_cell_layer_call_fn, lstm_cell_layer_call_and_return_conditional_losses, lstm_cell_1_layer_call_fn, lstm_cell_1_layer_call_and_return_conditional_losses while saving (showing 4 of 4). These functions will not be directly callable after loading.\n"
          ]
        },
        {
          "output_type": "stream",
          "name": "stdout",
          "text": [
            "INFO:tensorflow:Assets written to: mymodel/assets\n"
          ]
        },
        {
          "output_type": "stream",
          "name": "stderr",
          "text": [
            "INFO:tensorflow:Assets written to: mymodel/assets\n",
            "WARNING:absl:<keras.layers.recurrent.LSTMCell object at 0x7f6ddea085d0> has the same name 'LSTMCell' as a built-in Keras object. Consider renaming <class 'keras.layers.recurrent.LSTMCell'> to avoid naming conflicts when loading with `tf.keras.models.load_model`. If renaming is not possible, pass the object in the `custom_objects` parameter of the load function.\n",
            "WARNING:absl:<keras.layers.recurrent.LSTMCell object at 0x7f6ddf2f5a10> has the same name 'LSTMCell' as a built-in Keras object. Consider renaming <class 'keras.layers.recurrent.LSTMCell'> to avoid naming conflicts when loading with `tf.keras.models.load_model`. If renaming is not possible, pass the object in the `custom_objects` parameter of the load function.\n"
          ]
        }
      ]
    },
    {
      "cell_type": "code",
      "source": [
        "tf.keras.models.load_model(\"mymodel\")"
      ],
      "metadata": {
        "colab": {
          "base_uri": "https://localhost:8080/"
        },
        "id": "MBhc49U_A2JG",
        "outputId": "c5edd06e-6b16-4f33-d72b-fb959b0d0c08"
      },
      "execution_count": null,
      "outputs": [
        {
          "output_type": "execute_result",
          "data": {
            "text/plain": [
              "<keras.engine.sequential.Sequential at 0x7f6dd86eec90>"
            ]
          },
          "metadata": {},
          "execution_count": 61
        }
      ]
    },
    {
      "cell_type": "code",
      "source": [
        "contoh_review = [\"lokasi strategis pusat kota, nyaman\"]\n",
        "prediksi = model.predict(contoh_review) # Probabilitas\n",
        "prediksi.squeeze()\n",
        "if prediksi.squeeze()>0.5:\n",
        "  print(prediksi.squeeze())\n",
        "  print(\"Review positif\")\n",
        "else:\n",
        "  print(prediksi.squeeze())\n",
        "  print(\"Review negatif\")"
      ],
      "metadata": {
        "colab": {
          "base_uri": "https://localhost:8080/"
        },
        "id": "IQy0NFYpB_fp",
        "outputId": "d57012d8-fd16-4e06-a318-2fbb684add77"
      },
      "execution_count": null,
      "outputs": [
        {
          "output_type": "stream",
          "name": "stdout",
          "text": [
            "0.9957977\n",
            "Review positif\n"
          ]
        }
      ]
    }
  ]
}